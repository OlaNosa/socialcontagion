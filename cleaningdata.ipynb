{
 "cells": [
  {
   "cell_type": "code",
   "execution_count": 1,
   "id": "40874c7b-1822-4eea-a2bc-ceec13463e08",
   "metadata": {},
   "outputs": [],
   "source": [
    "import numpy as np\n",
    "import pandas as pd\n",
    "import matplotlib.pyplot as plt"
   ]
  },
  {
   "cell_type": "code",
   "execution_count": 2,
   "id": "49aca5ec-57cd-46ae-95da-5043c04dfc64",
   "metadata": {},
   "outputs": [],
   "source": [
    "df = pd.read_csv('../sbart_cleaning/BehData/100/new_Data_P2_100.csv')"
   ]
  },
  {
   "cell_type": "code",
   "execution_count": 4,
   "id": "9625fa46-c27e-49fc-97bb-da523dfa8303",
   "metadata": {},
   "outputs": [
    {
     "name": "stdout",
     "output_type": "stream",
     "text": [
      "Unnamed: 0\n",
      "Unnamed: 0.1\n",
      "Participant\n",
      "GameID\n",
      "Run\n",
      "Trial\n",
      "BalloonCount\n",
      "PopPoint\n",
      "Condition\n",
      "P2\n",
      "Fixation\n",
      "Photo\n",
      "NewBalloon\n",
      "OutcomeScreen\n",
      "Winner\n",
      "Looking\n",
      "SBRating\n",
      "PressPump\n",
      "ReleasePump\n",
      "Tokens\n",
      "CashIn\n",
      "Pop\n",
      "P2_PopPoint\n",
      "P2_PressPump\n",
      "P2_ReleasePump\n",
      "P2_Tokens\n",
      "P2_CashIn\n",
      "P2_Pop\n",
      "Onset\n",
      "Dur\n",
      "Restarted\n",
      "HitBlockTime\n",
      "Trigger\n",
      "Break\n",
      "Session\n",
      "P2ID\n",
      "Repeat\n",
      "P2Repeat\n"
     ]
    }
   ],
   "source": [
    "for c in df.columns:\n",
    "    print(c)"
   ]
  },
  {
   "cell_type": "code",
   "execution_count": 5,
   "id": "e4393d27-a994-435f-ad2a-470295984f99",
   "metadata": {},
   "outputs": [
    {
     "data": {
      "text/html": [
       "<div>\n",
       "<style scoped>\n",
       "    .dataframe tbody tr th:only-of-type {\n",
       "        vertical-align: middle;\n",
       "    }\n",
       "\n",
       "    .dataframe tbody tr th {\n",
       "        vertical-align: top;\n",
       "    }\n",
       "\n",
       "    .dataframe thead th {\n",
       "        text-align: right;\n",
       "    }\n",
       "</style>\n",
       "<table border=\"1\" class=\"dataframe\">\n",
       "  <thead>\n",
       "    <tr style=\"text-align: right;\">\n",
       "      <th></th>\n",
       "      <th>Unnamed: 0</th>\n",
       "      <th>Unnamed: 0.1</th>\n",
       "      <th>Participant</th>\n",
       "      <th>GameID</th>\n",
       "      <th>Run</th>\n",
       "      <th>Trial</th>\n",
       "      <th>BalloonCount</th>\n",
       "      <th>PopPoint</th>\n",
       "      <th>Condition</th>\n",
       "      <th>P2</th>\n",
       "      <th>...</th>\n",
       "      <th>Onset</th>\n",
       "      <th>Dur</th>\n",
       "      <th>Restarted</th>\n",
       "      <th>HitBlockTime</th>\n",
       "      <th>Trigger</th>\n",
       "      <th>Break</th>\n",
       "      <th>Session</th>\n",
       "      <th>P2ID</th>\n",
       "      <th>Repeat</th>\n",
       "      <th>P2Repeat</th>\n",
       "    </tr>\n",
       "  </thead>\n",
       "  <tbody>\n",
       "    <tr>\n",
       "      <th>0</th>\n",
       "      <td>0</td>\n",
       "      <td>0</td>\n",
       "      <td>100.0</td>\n",
       "      <td>22224.0</td>\n",
       "      <td>1.0</td>\n",
       "      <td>1.0</td>\n",
       "      <td>0.0</td>\n",
       "      <td>4.0</td>\n",
       "      <td>0.0</td>\n",
       "      <td>1.0</td>\n",
       "      <td>...</td>\n",
       "      <td>0.369477</td>\n",
       "      <td>4.141119</td>\n",
       "      <td>0.0</td>\n",
       "      <td>0.0</td>\n",
       "      <td>0.0</td>\n",
       "      <td>0.0</td>\n",
       "      <td>16</td>\n",
       "      <td>1</td>\n",
       "      <td>0</td>\n",
       "      <td>0</td>\n",
       "    </tr>\n",
       "    <tr>\n",
       "      <th>1</th>\n",
       "      <td>1</td>\n",
       "      <td>1</td>\n",
       "      <td>100.0</td>\n",
       "      <td>22224.0</td>\n",
       "      <td>1.0</td>\n",
       "      <td>1.0</td>\n",
       "      <td>0.0</td>\n",
       "      <td>4.0</td>\n",
       "      <td>0.0</td>\n",
       "      <td>1.0</td>\n",
       "      <td>...</td>\n",
       "      <td>4.575395</td>\n",
       "      <td>0.000000</td>\n",
       "      <td>0.0</td>\n",
       "      <td>0.0</td>\n",
       "      <td>0.0</td>\n",
       "      <td>0.0</td>\n",
       "      <td>16</td>\n",
       "      <td>1</td>\n",
       "      <td>0</td>\n",
       "      <td>0</td>\n",
       "    </tr>\n",
       "    <tr>\n",
       "      <th>2</th>\n",
       "      <td>2</td>\n",
       "      <td>2</td>\n",
       "      <td>100.0</td>\n",
       "      <td>22224.0</td>\n",
       "      <td>1.0</td>\n",
       "      <td>1.0</td>\n",
       "      <td>0.0</td>\n",
       "      <td>4.0</td>\n",
       "      <td>0.0</td>\n",
       "      <td>1.0</td>\n",
       "      <td>...</td>\n",
       "      <td>6.075569</td>\n",
       "      <td>3.586915</td>\n",
       "      <td>0.0</td>\n",
       "      <td>0.0</td>\n",
       "      <td>0.0</td>\n",
       "      <td>0.0</td>\n",
       "      <td>16</td>\n",
       "      <td>1</td>\n",
       "      <td>0</td>\n",
       "      <td>0</td>\n",
       "    </tr>\n",
       "    <tr>\n",
       "      <th>3</th>\n",
       "      <td>3</td>\n",
       "      <td>3</td>\n",
       "      <td>100.0</td>\n",
       "      <td>22224.0</td>\n",
       "      <td>1.0</td>\n",
       "      <td>1.0</td>\n",
       "      <td>0.0</td>\n",
       "      <td>4.0</td>\n",
       "      <td>0.0</td>\n",
       "      <td>1.0</td>\n",
       "      <td>...</td>\n",
       "      <td>9.724962</td>\n",
       "      <td>0.000000</td>\n",
       "      <td>0.0</td>\n",
       "      <td>0.0</td>\n",
       "      <td>0.0</td>\n",
       "      <td>0.0</td>\n",
       "      <td>16</td>\n",
       "      <td>1</td>\n",
       "      <td>0</td>\n",
       "      <td>0</td>\n",
       "    </tr>\n",
       "    <tr>\n",
       "      <th>4</th>\n",
       "      <td>4</td>\n",
       "      <td>4</td>\n",
       "      <td>100.0</td>\n",
       "      <td>22224.0</td>\n",
       "      <td>1.0</td>\n",
       "      <td>1.0</td>\n",
       "      <td>0.0</td>\n",
       "      <td>4.0</td>\n",
       "      <td>0.0</td>\n",
       "      <td>1.0</td>\n",
       "      <td>...</td>\n",
       "      <td>10.778386</td>\n",
       "      <td>0.000000</td>\n",
       "      <td>0.0</td>\n",
       "      <td>0.0</td>\n",
       "      <td>0.0</td>\n",
       "      <td>0.0</td>\n",
       "      <td>16</td>\n",
       "      <td>1</td>\n",
       "      <td>0</td>\n",
       "      <td>0</td>\n",
       "    </tr>\n",
       "  </tbody>\n",
       "</table>\n",
       "<p>5 rows × 38 columns</p>\n",
       "</div>"
      ],
      "text/plain": [
       "   Unnamed: 0  Unnamed: 0.1  Participant   GameID  Run  Trial  BalloonCount  \\\n",
       "0           0             0        100.0  22224.0  1.0    1.0           0.0   \n",
       "1           1             1        100.0  22224.0  1.0    1.0           0.0   \n",
       "2           2             2        100.0  22224.0  1.0    1.0           0.0   \n",
       "3           3             3        100.0  22224.0  1.0    1.0           0.0   \n",
       "4           4             4        100.0  22224.0  1.0    1.0           0.0   \n",
       "\n",
       "   PopPoint  Condition   P2  ...      Onset       Dur  Restarted  \\\n",
       "0       4.0        0.0  1.0  ...   0.369477  4.141119        0.0   \n",
       "1       4.0        0.0  1.0  ...   4.575395  0.000000        0.0   \n",
       "2       4.0        0.0  1.0  ...   6.075569  3.586915        0.0   \n",
       "3       4.0        0.0  1.0  ...   9.724962  0.000000        0.0   \n",
       "4       4.0        0.0  1.0  ...  10.778386  0.000000        0.0   \n",
       "\n",
       "   HitBlockTime  Trigger  Break  Session  P2ID  Repeat  P2Repeat  \n",
       "0           0.0      0.0    0.0       16     1       0         0  \n",
       "1           0.0      0.0    0.0       16     1       0         0  \n",
       "2           0.0      0.0    0.0       16     1       0         0  \n",
       "3           0.0      0.0    0.0       16     1       0         0  \n",
       "4           0.0      0.0    0.0       16     1       0         0  \n",
       "\n",
       "[5 rows x 38 columns]"
      ]
     },
     "execution_count": 5,
     "metadata": {},
     "output_type": "execute_result"
    }
   ],
   "source": [
    "df.head()"
   ]
  },
  {
   "cell_type": "code",
   "execution_count": 5,
   "id": "8a98d9a0-4158-4b18-8fcc-88daf32ce3d6",
   "metadata": {},
   "outputs": [
    {
     "data": {
      "text/html": [
       "<div>\n",
       "<style scoped>\n",
       "    .dataframe tbody tr th:only-of-type {\n",
       "        vertical-align: middle;\n",
       "    }\n",
       "\n",
       "    .dataframe tbody tr th {\n",
       "        vertical-align: top;\n",
       "    }\n",
       "\n",
       "    .dataframe thead th {\n",
       "        text-align: right;\n",
       "    }\n",
       "</style>\n",
       "<table border=\"1\" class=\"dataframe\">\n",
       "  <thead>\n",
       "    <tr style=\"text-align: right;\">\n",
       "      <th></th>\n",
       "      <th>Unnamed: 0</th>\n",
       "      <th>Unnamed: 0.1</th>\n",
       "      <th>Participant</th>\n",
       "      <th>GameID</th>\n",
       "      <th>Run</th>\n",
       "      <th>Trial</th>\n",
       "      <th>BalloonCount</th>\n",
       "      <th>PopPoint</th>\n",
       "      <th>Condition</th>\n",
       "      <th>P2</th>\n",
       "      <th>...</th>\n",
       "      <th>Onset</th>\n",
       "      <th>Dur</th>\n",
       "      <th>Restarted</th>\n",
       "      <th>HitBlockTime</th>\n",
       "      <th>Trigger</th>\n",
       "      <th>Break</th>\n",
       "      <th>Session</th>\n",
       "      <th>P2ID</th>\n",
       "      <th>Repeat</th>\n",
       "      <th>P2Repeat</th>\n",
       "    </tr>\n",
       "  </thead>\n",
       "  <tbody>\n",
       "    <tr>\n",
       "      <th>count</th>\n",
       "      <td>6670.00000</td>\n",
       "      <td>6670.000000</td>\n",
       "      <td>6670.0</td>\n",
       "      <td>6670.0</td>\n",
       "      <td>6670.000000</td>\n",
       "      <td>6670.000000</td>\n",
       "      <td>6670.000000</td>\n",
       "      <td>6670.000000</td>\n",
       "      <td>6670.000000</td>\n",
       "      <td>6670.000000</td>\n",
       "      <td>...</td>\n",
       "      <td>6670.000000</td>\n",
       "      <td>6670.000000</td>\n",
       "      <td>6670.0</td>\n",
       "      <td>6670.000000</td>\n",
       "      <td>6670.0</td>\n",
       "      <td>6670.000000</td>\n",
       "      <td>6670.0</td>\n",
       "      <td>6670.000000</td>\n",
       "      <td>6670.0</td>\n",
       "      <td>6670.000000</td>\n",
       "    </tr>\n",
       "    <tr>\n",
       "      <th>mean</th>\n",
       "      <td>3334.50000</td>\n",
       "      <td>3263.242579</td>\n",
       "      <td>100.0</td>\n",
       "      <td>22224.0</td>\n",
       "      <td>5.227886</td>\n",
       "      <td>27.193853</td>\n",
       "      <td>67.784708</td>\n",
       "      <td>40.005697</td>\n",
       "      <td>1.288756</td>\n",
       "      <td>8001.954423</td>\n",
       "      <td>...</td>\n",
       "      <td>217.663084</td>\n",
       "      <td>0.206392</td>\n",
       "      <td>0.0</td>\n",
       "      <td>0.000300</td>\n",
       "      <td>0.0</td>\n",
       "      <td>0.001349</td>\n",
       "      <td>16.0</td>\n",
       "      <td>27.860570</td>\n",
       "      <td>0.0</td>\n",
       "      <td>0.149775</td>\n",
       "    </tr>\n",
       "    <tr>\n",
       "      <th>std</th>\n",
       "      <td>1925.60748</td>\n",
       "      <td>2129.686009</td>\n",
       "      <td>0.0</td>\n",
       "      <td>0.0</td>\n",
       "      <td>2.514842</td>\n",
       "      <td>17.060767</td>\n",
       "      <td>38.207232</td>\n",
       "      <td>16.353576</td>\n",
       "      <td>0.633434</td>\n",
       "      <td>10667.728433</td>\n",
       "      <td>...</td>\n",
       "      <td>122.771983</td>\n",
       "      <td>2.373002</td>\n",
       "      <td>0.0</td>\n",
       "      <td>0.017315</td>\n",
       "      <td>0.0</td>\n",
       "      <td>0.036711</td>\n",
       "      <td>0.0</td>\n",
       "      <td>40.095549</td>\n",
       "      <td>0.0</td>\n",
       "      <td>0.356878</td>\n",
       "    </tr>\n",
       "    <tr>\n",
       "      <th>min</th>\n",
       "      <td>0.00000</td>\n",
       "      <td>0.000000</td>\n",
       "      <td>100.0</td>\n",
       "      <td>22224.0</td>\n",
       "      <td>1.000000</td>\n",
       "      <td>1.000000</td>\n",
       "      <td>0.000000</td>\n",
       "      <td>1.000000</td>\n",
       "      <td>0.000000</td>\n",
       "      <td>0.000000</td>\n",
       "      <td>...</td>\n",
       "      <td>0.041650</td>\n",
       "      <td>0.000000</td>\n",
       "      <td>0.0</td>\n",
       "      <td>0.000000</td>\n",
       "      <td>0.0</td>\n",
       "      <td>0.000000</td>\n",
       "      <td>16.0</td>\n",
       "      <td>0.000000</td>\n",
       "      <td>0.0</td>\n",
       "      <td>0.000000</td>\n",
       "    </tr>\n",
       "    <tr>\n",
       "      <th>25%</th>\n",
       "      <td>1667.25000</td>\n",
       "      <td>1268.250000</td>\n",
       "      <td>100.0</td>\n",
       "      <td>22224.0</td>\n",
       "      <td>3.000000</td>\n",
       "      <td>12.000000</td>\n",
       "      <td>33.000000</td>\n",
       "      <td>29.000000</td>\n",
       "      <td>1.000000</td>\n",
       "      <td>2.000000</td>\n",
       "      <td>...</td>\n",
       "      <td>112.582903</td>\n",
       "      <td>0.000000</td>\n",
       "      <td>0.0</td>\n",
       "      <td>0.000000</td>\n",
       "      <td>0.0</td>\n",
       "      <td>0.000000</td>\n",
       "      <td>16.0</td>\n",
       "      <td>2.000000</td>\n",
       "      <td>0.0</td>\n",
       "      <td>0.000000</td>\n",
       "    </tr>\n",
       "    <tr>\n",
       "      <th>50%</th>\n",
       "      <td>3334.50000</td>\n",
       "      <td>3360.500000</td>\n",
       "      <td>100.0</td>\n",
       "      <td>22224.0</td>\n",
       "      <td>5.000000</td>\n",
       "      <td>24.000000</td>\n",
       "      <td>66.000000</td>\n",
       "      <td>38.000000</td>\n",
       "      <td>1.000000</td>\n",
       "      <td>3.000000</td>\n",
       "      <td>...</td>\n",
       "      <td>215.893267</td>\n",
       "      <td>0.000000</td>\n",
       "      <td>0.0</td>\n",
       "      <td>0.000000</td>\n",
       "      <td>0.0</td>\n",
       "      <td>0.000000</td>\n",
       "      <td>16.0</td>\n",
       "      <td>3.000000</td>\n",
       "      <td>0.0</td>\n",
       "      <td>0.000000</td>\n",
       "    </tr>\n",
       "    <tr>\n",
       "      <th>75%</th>\n",
       "      <td>5001.75000</td>\n",
       "      <td>5027.750000</td>\n",
       "      <td>100.0</td>\n",
       "      <td>22224.0</td>\n",
       "      <td>8.000000</td>\n",
       "      <td>43.000000</td>\n",
       "      <td>104.000000</td>\n",
       "      <td>55.000000</td>\n",
       "      <td>2.000000</td>\n",
       "      <td>22225.000000</td>\n",
       "      <td>...</td>\n",
       "      <td>308.405842</td>\n",
       "      <td>0.000000</td>\n",
       "      <td>0.0</td>\n",
       "      <td>0.000000</td>\n",
       "      <td>0.0</td>\n",
       "      <td>0.000000</td>\n",
       "      <td>16.0</td>\n",
       "      <td>51.000000</td>\n",
       "      <td>0.0</td>\n",
       "      <td>0.000000</td>\n",
       "    </tr>\n",
       "    <tr>\n",
       "      <th>max</th>\n",
       "      <td>6669.00000</td>\n",
       "      <td>6877.000000</td>\n",
       "      <td>100.0</td>\n",
       "      <td>22224.0</td>\n",
       "      <td>10.000000</td>\n",
       "      <td>60.000000</td>\n",
       "      <td>133.000000</td>\n",
       "      <td>64.000000</td>\n",
       "      <td>2.000000</td>\n",
       "      <td>22229.000000</td>\n",
       "      <td>...</td>\n",
       "      <td>492.216822</td>\n",
       "      <td>172.854423</td>\n",
       "      <td>0.0</td>\n",
       "      <td>1.000000</td>\n",
       "      <td>0.0</td>\n",
       "      <td>1.000000</td>\n",
       "      <td>16.0</td>\n",
       "      <td>102.000000</td>\n",
       "      <td>0.0</td>\n",
       "      <td>1.000000</td>\n",
       "    </tr>\n",
       "  </tbody>\n",
       "</table>\n",
       "<p>8 rows × 38 columns</p>\n",
       "</div>"
      ],
      "text/plain": [
       "       Unnamed: 0  Unnamed: 0.1  Participant   GameID          Run  \\\n",
       "count  6670.00000   6670.000000       6670.0   6670.0  6670.000000   \n",
       "mean   3334.50000   3263.242579        100.0  22224.0     5.227886   \n",
       "std    1925.60748   2129.686009          0.0      0.0     2.514842   \n",
       "min       0.00000      0.000000        100.0  22224.0     1.000000   \n",
       "25%    1667.25000   1268.250000        100.0  22224.0     3.000000   \n",
       "50%    3334.50000   3360.500000        100.0  22224.0     5.000000   \n",
       "75%    5001.75000   5027.750000        100.0  22224.0     8.000000   \n",
       "max    6669.00000   6877.000000        100.0  22224.0    10.000000   \n",
       "\n",
       "             Trial  BalloonCount     PopPoint    Condition            P2  ...  \\\n",
       "count  6670.000000   6670.000000  6670.000000  6670.000000   6670.000000  ...   \n",
       "mean     27.193853     67.784708    40.005697     1.288756   8001.954423  ...   \n",
       "std      17.060767     38.207232    16.353576     0.633434  10667.728433  ...   \n",
       "min       1.000000      0.000000     1.000000     0.000000      0.000000  ...   \n",
       "25%      12.000000     33.000000    29.000000     1.000000      2.000000  ...   \n",
       "50%      24.000000     66.000000    38.000000     1.000000      3.000000  ...   \n",
       "75%      43.000000    104.000000    55.000000     2.000000  22225.000000  ...   \n",
       "max      60.000000    133.000000    64.000000     2.000000  22229.000000  ...   \n",
       "\n",
       "             Onset          Dur  Restarted  HitBlockTime  Trigger  \\\n",
       "count  6670.000000  6670.000000     6670.0   6670.000000   6670.0   \n",
       "mean    217.663084     0.206392        0.0      0.000300      0.0   \n",
       "std     122.771983     2.373002        0.0      0.017315      0.0   \n",
       "min       0.041650     0.000000        0.0      0.000000      0.0   \n",
       "25%     112.582903     0.000000        0.0      0.000000      0.0   \n",
       "50%     215.893267     0.000000        0.0      0.000000      0.0   \n",
       "75%     308.405842     0.000000        0.0      0.000000      0.0   \n",
       "max     492.216822   172.854423        0.0      1.000000      0.0   \n",
       "\n",
       "             Break  Session         P2ID  Repeat     P2Repeat  \n",
       "count  6670.000000   6670.0  6670.000000  6670.0  6670.000000  \n",
       "mean      0.001349     16.0    27.860570     0.0     0.149775  \n",
       "std       0.036711      0.0    40.095549     0.0     0.356878  \n",
       "min       0.000000     16.0     0.000000     0.0     0.000000  \n",
       "25%       0.000000     16.0     2.000000     0.0     0.000000  \n",
       "50%       0.000000     16.0     3.000000     0.0     0.000000  \n",
       "75%       0.000000     16.0    51.000000     0.0     0.000000  \n",
       "max       1.000000     16.0   102.000000     0.0     1.000000  \n",
       "\n",
       "[8 rows x 38 columns]"
      ]
     },
     "execution_count": 5,
     "metadata": {},
     "output_type": "execute_result"
    }
   ],
   "source": [
    "df.describe()"
   ]
  },
  {
   "cell_type": "code",
   "execution_count": 6,
   "id": "2d966466-7da5-43bd-b9dc-57670556d06e",
   "metadata": {},
   "outputs": [
    {
     "name": "stdout",
     "output_type": "stream",
     "text": [
      "<class 'pandas.core.frame.DataFrame'>\n",
      "RangeIndex: 6670 entries, 0 to 6669\n",
      "Data columns (total 38 columns):\n",
      " #   Column          Non-Null Count  Dtype  \n",
      "---  ------          --------------  -----  \n",
      " 0   Unnamed: 0      6670 non-null   int64  \n",
      " 1   Unnamed: 0.1    6670 non-null   int64  \n",
      " 2   Participant     6670 non-null   float64\n",
      " 3   GameID          6670 non-null   float64\n",
      " 4   Run             6670 non-null   float64\n",
      " 5   Trial           6670 non-null   float64\n",
      " 6   BalloonCount    6670 non-null   float64\n",
      " 7   PopPoint        6670 non-null   float64\n",
      " 8   Condition       6670 non-null   float64\n",
      " 9   P2              6670 non-null   float64\n",
      " 10  Fixation        6670 non-null   float64\n",
      " 11  Photo           6670 non-null   float64\n",
      " 12  NewBalloon      6670 non-null   float64\n",
      " 13  OutcomeScreen   6670 non-null   float64\n",
      " 14  Winner          6670 non-null   float64\n",
      " 15  Looking         6670 non-null   float64\n",
      " 16  SBRating        6670 non-null   float64\n",
      " 17  PressPump       6670 non-null   float64\n",
      " 18  ReleasePump     6670 non-null   float64\n",
      " 19  Tokens          6670 non-null   float64\n",
      " 20  CashIn          6670 non-null   float64\n",
      " 21  Pop             6670 non-null   float64\n",
      " 22  P2_PopPoint     6670 non-null   float64\n",
      " 23  P2_PressPump    6670 non-null   float64\n",
      " 24  P2_ReleasePump  6670 non-null   float64\n",
      " 25  P2_Tokens       6670 non-null   float64\n",
      " 26  P2_CashIn       6670 non-null   float64\n",
      " 27  P2_Pop          6670 non-null   float64\n",
      " 28  Onset           6670 non-null   float64\n",
      " 29  Dur             6670 non-null   float64\n",
      " 30  Restarted       6670 non-null   float64\n",
      " 31  HitBlockTime    6670 non-null   float64\n",
      " 32  Trigger         6670 non-null   float64\n",
      " 33  Break           6670 non-null   float64\n",
      " 34  Session         6670 non-null   int64  \n",
      " 35  P2ID            6670 non-null   int64  \n",
      " 36  Repeat          6670 non-null   int64  \n",
      " 37  P2Repeat        6670 non-null   int64  \n",
      "dtypes: float64(32), int64(6)\n",
      "memory usage: 1.9 MB\n"
     ]
    }
   ],
   "source": [
    "df.info()"
   ]
  },
  {
   "cell_type": "code",
   "execution_count": 6,
   "id": "9ba419f2-c34c-47b1-8f5b-70712ac1f8d1",
   "metadata": {},
   "outputs": [],
   "source": [
    "arr = df['P2ID'].values #make into array"
   ]
  },
  {
   "cell_type": "code",
   "execution_count": 8,
   "id": "564293bc-2b66-42bc-83c6-4c2d46463b7d",
   "metadata": {},
   "outputs": [
    {
     "data": {
      "text/plain": [
       "0       1\n",
       "1       1\n",
       "2       1\n",
       "3       1\n",
       "4       1\n",
       "       ..\n",
       "6665    2\n",
       "6666    2\n",
       "6667    2\n",
       "6668    2\n",
       "6669    0\n",
       "Name: P2ID, Length: 6670, dtype: int64"
      ]
     },
     "execution_count": 8,
     "metadata": {},
     "output_type": "execute_result"
    }
   ],
   "source": [
    "df.P2ID"
   ]
  },
  {
   "cell_type": "code",
   "execution_count": 16,
   "id": "190c86c2-ca81-4104-985e-4b098c23a66e",
   "metadata": {},
   "outputs": [
    {
     "name": "stdout",
     "output_type": "stream",
     "text": [
      "72 [1, 0, 1, 53, 17, 99, 86, 4, 52, 4, 51, 2, 102, 1, 3, 4, 0, 2, 0, 1, 101, 52, 101, 3, 2, 17, 3, 52, 17, 51, 2, 51, 1, 0, 102, 0, 1, 99, 102, 3, 102, 2, 17, 3, 17, 3, 51, 4, 1, 3, 102, 2, 102, 0, 2, 0, 1, 51, 4, 17, 2, 102, 3, 17, 51, 3, 102, 1, 102, 3, 0, 2]\n"
     ]
    }
   ],
   "source": [
    "count = 0\n",
    "newarr = []\n",
    "for i in range(len(arr)-1):\n",
    "    if arr[i] != arr[i+1]:\n",
    "        count += 1\n",
    "        newarr.append(arr[i])\n",
    "print(count, newarr)\n",
    "        "
   ]
  },
  {
   "cell_type": "code",
   "execution_count": 10,
   "id": "bcd80988-690d-450b-a255-21a5c319ad62",
   "metadata": {},
   "outputs": [
    {
     "data": {
      "text/plain": [
       "{0, 1, 2, 3, 4, 17, 51, 52, 53, 86, 99, 101, 102}"
      ]
     },
     "execution_count": 10,
     "metadata": {},
     "output_type": "execute_result"
    }
   ],
   "source": [
    "set(arr)"
   ]
  },
  {
   "cell_type": "code",
   "execution_count": 11,
   "id": "0e54e7a2-2407-4f27-86ca-3bedfc18d739",
   "metadata": {},
   "outputs": [
    {
     "name": "stdout",
     "output_type": "stream",
     "text": [
      "{1: 651, 0: 9, 53: 70, 17: 508, 99: 110, 86: 24, 4: 427, 52: 120, 51: 301, 2: 2178, 102: 1144, 3: 1004, 101: 124}\n"
     ]
    }
   ],
   "source": [
    "counts = {}\n",
    "\n",
    "for x in arr:\n",
    "    if x not in counts:\n",
    "        counts[x] = 1\n",
    "    else:\n",
    "        counts[x] += 1\n",
    "        \n",
    "print(counts)"
   ]
  },
  {
   "cell_type": "code",
   "execution_count": 12,
   "id": "fd84e7a6-eb60-43c9-b2bb-13a5110ec6a6",
   "metadata": {},
   "outputs": [],
   "source": [
    "df2 = df[['Participant','P2ID', 'Condition', 'PressPump','P2_PressPump']]"
   ]
  },
  {
   "cell_type": "code",
   "execution_count": 14,
   "id": "3d3b20c3-0360-4d24-8525-00fca2b63430",
   "metadata": {},
   "outputs": [
    {
     "data": {
      "text/plain": [
       "Participant     100.0\n",
       "P2ID              2.0\n",
       "Condition         2.0\n",
       "PressPump         1.0\n",
       "P2_PressPump      0.0\n",
       "Name: 6665, dtype: float64"
      ]
     },
     "execution_count": 14,
     "metadata": {},
     "output_type": "execute_result"
    }
   ],
   "source": [
    "#df2.index\n",
    "df2.loc[6665]"
   ]
  },
  {
   "cell_type": "code",
   "execution_count": 15,
   "id": "d874c706-4819-44de-90bd-7c483891f127",
   "metadata": {},
   "outputs": [
    {
     "data": {
      "text/plain": [
       "Participant     100.0\n",
       "P2ID              1.0\n",
       "Condition         0.0\n",
       "PressPump         1.0\n",
       "P2_PressPump      0.0\n",
       "Name: 4, dtype: float64"
      ]
     },
     "execution_count": 15,
     "metadata": {},
     "output_type": "execute_result"
    }
   ],
   "source": [
    "df2.iloc[4]"
   ]
  },
  {
   "cell_type": "code",
   "execution_count": 29,
   "id": "95d52f8b-748a-4410-86f6-d6b92334525e",
   "metadata": {},
   "outputs": [],
   "source": [
    "df2_sub = df2[df2['Condition'] == 1]\n",
    "df2_sub = df2_sub.reset_index(drop=True)"
   ]
  },
  {
   "cell_type": "code",
   "execution_count": 93,
   "id": "650a8fa5-c1f8-474b-9169-e51b3aeb3767",
   "metadata": {},
   "outputs": [
    {
     "name": "stdout",
     "output_type": "stream",
     "text": [
      "[0, 70, 176, 250, 274, 354, 392, 506, 548, 592, 700, 803, 914, 915, 995, 1035, 1079, 1209, 1254, 1302, 1312, 1354, 1470, 1572, 1620, 1663, 1699, 1727, 1746, 1798, 1822, 1858, 1935, 1954, 2059, 2107, 2123, 2254, 2288, 2312, 2332, 2333, 2379, 2485, 2583, 2655, 2685, 2848, 2933, 2953, 3139, 3357, 3437]\n",
      "[0, 70, 176, 250, 274, 354, 392, 506, 548, 592, 700]\n",
      "[803, 914, 915, 995, 1035, 1209, 1254, 1312, 1354, 1470, 1572, 1620, 1663, 1699, 1798, 1822, 2059, 2107, 2254, 2288, 2312, 2332, 2333, 2379, 2485, 2583, 2655, 2848, 2933, 3139, 3437]\n"
     ]
    }
   ],
   "source": [
    "p2id = df2_sub['P2ID'].values\n",
    "\n",
    "num = [0]\n",
    "for i in range(len(df2_sub)-1):\n",
    "    if p2id[i] != p2id[i+1]:\n",
    "        num.append(i+1)\n",
    "print(num)\n",
    "\n",
    "first_appearance_3 = np.min(df2_sub[df2_sub['P2ID'] == 3].index)\n",
    "first_appearance_3_idx = np.where(np.array(num) == first_appearance_3)[0][0]\n",
    "if first_appearance_3_idx + 1 < len(num):\n",
    "    first_appearance_3_end = num[first_appearance_3_idx+1]\n",
    "else:\n",
    "    first_appearance_3_end = len(df2_sub)\n",
    "    \n",
    "    # if p2id[i] == p2id[i+1]:\n",
    "    #     lit.append(df2.iloc[i])\n",
    "    # else:\n",
    "    #     lit = []\n",
    "        \n",
    "df2_pre = df2_sub[0:(first_appearance_3+1)]\n",
    "df2_post = df2_sub[first_appearance_3_end:]\n",
    "df2_post = df2_post[df2_post['P2ID'] != 3]\n",
    "\n",
    "p2idpre = df2_pre['P2ID'].values\n",
    "\n",
    "num_pre = [0]\n",
    "for j in range(len(df2_pre)-1):\n",
    "    if p2idpre[j] != p2idpre[j+1]:\n",
    "        num_pre.append(j+1)\n",
    "print(num_pre)\n",
    "\n",
    "\n",
    "p2id = df2_post['P2ID'].values\n",
    "\n",
    "num_post = [df2_post.index[0]]\n",
    "for i in range(len(df2_post)-1):\n",
    "    if p2id[i] != p2id[i+1]:\n",
    "        num_post.append(df2_post.index[i+1])\n",
    "print(num_post)\n",
    "\n",
    "\n",
    "    "
   ]
  },
  {
   "cell_type": "code",
   "execution_count": 105,
   "id": "4ac24a70-e25d-4443-8d76-e10b3e07a870",
   "metadata": {},
   "outputs": [
    {
     "name": "stdout",
     "output_type": "stream",
     "text": [
      "[0, 1095, 1366, 2788, 3961, 4192, 5734, 6039]\n"
     ]
    }
   ],
   "source": [
    "# cond = df['Condition'].values\n",
    "\n",
    "# #3 passive computer opponent\n",
    "# # consider time points before \n",
    "\n",
    "\n",
    "\n",
    "# results = []\n",
    "# for i in range(len(df2)-1):\n",
    "#     if df2.condition[i] == 1:\n",
    "        \n",
    "# print(num)"
   ]
  },
  {
   "cell_type": "code",
   "execution_count": null,
   "id": "bfc22c9e-b44d-408c-ba8b-d0d3d78414db",
   "metadata": {},
   "outputs": [],
   "source": [
    "results = []\n",
    "for i in range(len(num)-1):\n",
    "    results.append(df2_sub.iloc[num[i]:num[i+1]])\n",
    "print(results)"
   ]
  },
  {
   "cell_type": "code",
   "execution_count": null,
   "id": "86d56187-9fc5-4a9a-82d3-a1ea244aa5a5",
   "metadata": {},
   "outputs": [],
   "source": [
    "results_pre = []\n",
    "for i in range(len(num_pre)-1):\n",
    "    results_pre.append(df2_pre.iloc[num_pre[i]:num_pre[i+1]])\n",
    "print(results_pre)\n",
    "\n",
    "results_post = []\n",
    "for i in range(len(num_post)-1):\n",
    "    results_post.append(df2_post.iloc[num_post[i]:num_post[i+1]])\n",
    "print(results_post)\n",
    "\n",
    "\n"
   ]
  },
  {
   "cell_type": "code",
   "execution_count": null,
   "id": "5c07f8ab-cd53-452b-b641-3f591dada37b",
   "metadata": {},
   "outputs": [],
   "source": []
  },
  {
   "cell_type": "code",
   "execution_count": 34,
   "id": "559f67ea-42e5-48b7-9b4f-c1c902c54833",
   "metadata": {},
   "outputs": [
    {
     "data": {
      "text/html": [
       "<div>\n",
       "<style scoped>\n",
       "    .dataframe tbody tr th:only-of-type {\n",
       "        vertical-align: middle;\n",
       "    }\n",
       "\n",
       "    .dataframe tbody tr th {\n",
       "        vertical-align: top;\n",
       "    }\n",
       "\n",
       "    .dataframe thead th {\n",
       "        text-align: right;\n",
       "    }\n",
       "</style>\n",
       "<table border=\"1\" class=\"dataframe\">\n",
       "  <thead>\n",
       "    <tr style=\"text-align: right;\">\n",
       "      <th></th>\n",
       "      <th>Participant</th>\n",
       "      <th>P2ID</th>\n",
       "      <th>PressPump</th>\n",
       "      <th>P2_PressPump</th>\n",
       "    </tr>\n",
       "  </thead>\n",
       "  <tbody>\n",
       "    <tr>\n",
       "      <th>4</th>\n",
       "      <td>100.0</td>\n",
       "      <td>1</td>\n",
       "      <td>1.0</td>\n",
       "      <td>0.0</td>\n",
       "    </tr>\n",
       "    <tr>\n",
       "      <th>5</th>\n",
       "      <td>100.0</td>\n",
       "      <td>1</td>\n",
       "      <td>0.0</td>\n",
       "      <td>0.0</td>\n",
       "    </tr>\n",
       "    <tr>\n",
       "      <th>6</th>\n",
       "      <td>100.0</td>\n",
       "      <td>1</td>\n",
       "      <td>1.0</td>\n",
       "      <td>0.0</td>\n",
       "    </tr>\n",
       "    <tr>\n",
       "      <th>7</th>\n",
       "      <td>100.0</td>\n",
       "      <td>1</td>\n",
       "      <td>0.0</td>\n",
       "      <td>0.0</td>\n",
       "    </tr>\n",
       "    <tr>\n",
       "      <th>8</th>\n",
       "      <td>100.0</td>\n",
       "      <td>1</td>\n",
       "      <td>1.0</td>\n",
       "      <td>0.0</td>\n",
       "    </tr>\n",
       "    <tr>\n",
       "      <th>9</th>\n",
       "      <td>100.0</td>\n",
       "      <td>1</td>\n",
       "      <td>0.0</td>\n",
       "      <td>0.0</td>\n",
       "    </tr>\n",
       "  </tbody>\n",
       "</table>\n",
       "</div>"
      ],
      "text/plain": [
       "   Participant  P2ID  PressPump  P2_PressPump\n",
       "4        100.0     1        1.0           0.0\n",
       "5        100.0     1        0.0           0.0\n",
       "6        100.0     1        1.0           0.0\n",
       "7        100.0     1        0.0           0.0\n",
       "8        100.0     1        1.0           0.0\n",
       "9        100.0     1        0.0           0.0"
      ]
     },
     "execution_count": 34,
     "metadata": {},
     "output_type": "execute_result"
    }
   ],
   "source": [
    "df2.iloc[4:10]"
   ]
  },
  {
   "cell_type": "code",
   "execution_count": 42,
   "id": "4894f1f1-1614-4dcf-88a1-cac05759e0df",
   "metadata": {},
   "outputs": [
    {
     "data": {
      "text/plain": [
       "<Figure size 432x288 with 0 Axes>"
      ]
     },
     "execution_count": 42,
     "metadata": {},
     "output_type": "execute_result"
    },
    {
     "data": {
      "text/plain": [
       "<Figure size 432x288 with 0 Axes>"
      ]
     },
     "metadata": {},
     "output_type": "display_data"
    }
   ],
   "source": [
    "plt.figure()\n"
   ]
  },
  {
   "cell_type": "code",
   "execution_count": 46,
   "id": "9b51b319-89c7-4118-9e05-35d9e2c5144a",
   "metadata": {},
   "outputs": [],
   "source": [
    "def f(arr):\n",
    "    newarr = []\n",
    "    value = 0\n",
    "    for i in range(len(arr)):\n",
    "        value += arr[i]\n",
    "        newarr.append(value)\n",
    "    return newarr\n",
    "        "
   ]
  },
  {
   "cell_type": "code",
   "execution_count": 50,
   "id": "afed41f4-79b5-40e8-85b3-a655bcd5305f",
   "metadata": {},
   "outputs": [
    {
     "name": "stdout",
     "output_type": "stream",
     "text": [
      "[1, 1, 1, 1, 2, 2, 3, 3]\n",
      "[1 1 1 1 2 2 3 3]\n"
     ]
    }
   ],
   "source": [
    "array = [1,0,0,0,1,0,1,0]\n",
    "print(f(array))\n",
    "print(np.cumsum(array))"
   ]
  },
  {
   "cell_type": "code",
   "execution_count": 99,
   "id": "1634b0a2-2f54-4b16-b071-6f6976dc0c58",
   "metadata": {},
   "outputs": [
    {
     "data": {
      "image/png": "[encoded data removed]",
      "text/plain": [
       "<Figure size 1400x1400 with 1 Axes>"
      ]
     },
     "metadata": {
      "needs_background": "light"
     },
     "output_type": "display_data"
    }
   ],
   "source": [
    "plt.figure(figsize=(7,7), dpi=200)\n",
    "#for i in range(len(results)):\n",
    "for i in range(len(results_pre)):   \n",
    "    data = results_pre[i]\n",
    "    \n",
    "    p1pump = data.PressPump\n",
    "    p2pump = data.P2_PressPump\n",
    "    \n",
    "    cump1 = np.cumsum(p1pump)\n",
    "    cump2 = np.cumsum(p2pump)\n",
    "    \n",
    "    #print(cump1)\n",
    "    #print(cump2)\n",
    "                           \n",
    "    plt.plot(cump1, cump2)\n",
    "    \n",
    "    m = max(np.amax(cump1), np.amax(cump2))\n",
    "    \n",
    "    plt.plot([0, m], [0, m], '--k')\n",
    "    plt.xlabel('# P1 pumps')\n",
    "    plt.ylabel('# P2 pumps')\n",
    "    plt.xlim(0,50)\n",
    "    plt.ylim(0,50)\n",
    "    \n",
    "    plt.gca().set_aspect(1)\n",
    "    \n",
    "    #plt.plot(cump1, '.-') \n",
    "    #plt.plot(cump2, '.-')\n",
    "    \n",
    "plt.savefig('figs/p1_vs_p2_pre.png')\n",
    "    \n",
    "    \n",
    "   "
   ]
  },
  {
   "cell_type": "code",
   "execution_count": 101,
   "id": "46cd9241-bbcc-4f82-9fdb-fa0257c0652e",
   "metadata": {},
   "outputs": [
    {
     "data": {
      "image/png": "[encoded data removed]",
      "text/plain": [
       "<Figure size 1400x1400 with 1 Axes>"
      ]
     },
     "metadata": {
      "needs_background": "light"
     },
     "output_type": "display_data"
    }
   ],
   "source": [
    "plt.figure(figsize=(7,7), dpi=200)\n",
    "#for i in range(len(results)):\n",
    "for i in range(len(results_post)):   \n",
    "    data = results_post[i]\n",
    "    \n",
    "    p1pump = data.PressPump\n",
    "    p2pump = data.P2_PressPump\n",
    "    \n",
    "    cump1 = np.cumsum(p1pump)\n",
    "    cump2 = np.cumsum(p2pump)\n",
    "    \n",
    "    #print(cump1)\n",
    "    #print(cump2)\n",
    "                           \n",
    "    plt.plot(cump1, cump2)\n",
    "    \n",
    "    m = max(np.amax(cump1), np.amax(cump2))\n",
    "    \n",
    "    plt.plot([0, m], [0, m], '--k')\n",
    "    plt.xlabel('# P1 pumps')\n",
    "    plt.ylabel('# P2 pumps')\n",
    "    plt.xlim(0,50)\n",
    "    plt.ylim(0,50)\n",
    "    \n",
    "    plt.gca().set_aspect(1)\n",
    "    \n",
    "    #plt.plot(cump1, '.-') \n",
    "    #plt.plot(cump2, '.-')\n",
    "    \n",
    "plt.savefig('figs/p1_vs_p2_post.png')\n",
    "    \n",
    "    \n",
    "   "
   ]
  },
  {
   "cell_type": "code",
   "execution_count": 76,
   "id": "72b8149b-fdff-4bbd-9ba1-bdb16587cbd3",
   "metadata": {},
   "outputs": [
    {
     "data": {
      "image/png": "[encoded data removed]",
      "text/plain": [
       "<Figure size 1400x1400 with 1 Axes>"
      ]
     },
     "metadata": {
      "needs_background": "light"
     },
     "output_type": "display_data"
    }
   ],
   "source": [
    "plt.figure(figsize=(7,7), dpi=200)\n",
    "#for i in range(len(results)):\n",
    "for i in range(len(results)):   \n",
    "    data = results[i]\n",
    "    \n",
    "    p1pump = data.PressPump\n",
    "    p2pump = data.P2_PressPump\n",
    "    \n",
    "    cump1 = np.cumsum(p1pump)\n",
    "    cump2 = np.cumsum(p2pump)\n",
    "    \n",
    "    print(cump1)\n",
    "    print(cump2)\n",
    "                           \n",
    "    plt.plot(cump1, cump2)\n",
    "    \n",
    "    m = max(np.amax(cump1), np.amax(cump2))\n",
    "    \n",
    "    plt.plot([0, m], [0, m], '--k')\n",
    "    plt.xlabel('# P1 pumps')\n",
    "    plt.ylabel('# P2 pumps')\n",
    "    plt.xlim(0,50)\n",
    "    plt.ylim(0,50)\n",
    "    \n",
    "    plt.gca().set_aspect(1)\n",
    "    \n",
    "    #plt.plot(cump1, '.-') \n",
    "    #plt.plot(cump2, '.-')\n",
    "    \n",
    "plt.savefig('figs/p1_vs_p2.png')\n",
    "    \n",
    "    \n",
    "   "
   ]
  },
  {
   "cell_type": "code",
   "execution_count": null,
   "id": "e61e4236-0346-4dd5-9fc9-1103491c7967",
   "metadata": {},
   "outputs": [],
   "source": [
    "# figure over time pumps of participant p1\n",
    "f = (x-y)/(x+y) # x = p1 y = p2\n"
   ]
  },
  {
   "cell_type": "code",
   "execution_count": 103,
   "id": "b7462f61-75e8-46e0-a7ad-24dac92fe763",
   "metadata": {},
   "outputs": [],
   "source": [
    "def behav(x,y):\n",
    "    f = (x-y)/(x+y)\n",
    "    return f"
   ]
  },
  {
   "cell_type": "code",
   "execution_count": 88,
   "id": "fcc69ca8-56eb-444d-abfa-554e1fe1a2bd",
   "metadata": {},
   "outputs": [
    {
     "name": "stdout",
     "output_type": "stream",
     "text": [
      "[161.0, 0.0, 1.0, 28.0, 28.0, 20.0, 8.0, 17.0, 15.0, 28.0, 15.0, 18.0, 35.0, 25.0, 21.0, 20.0, 0.0, 264.0, 0.0, 17.0, 15.0, 12.0, 12.0, 30.0, 19.0, 20.0, 1.0, 14.0, 50.0, 40.0, 20.0, 17.0, 22.0, 0.0, 278.0, 0.0, 1.0, 10.0, 10.0, 5.0, 21.0, 8.0, 14.0, 20.0, 6.0, 29.0, 18.0, 2.0, 8.0, 29.0, 10.0, 8.0, 6.0, 0.0, 279.0, 0.0, 16.0, 17.0, 23.0, 44.0, 32.0, 10.0, 38.0, 35.0, 6.0, 46.0, 16.0, 20.0, 53.0, 28.0, 0.0, 265.0]\n",
      "[0.0, 0.0, 0.0, 4.0, 22.0, 14.0, 1.0, 20.0, 1.0, 22.0, 3.0, 1.0, 16.0, 0.0, 27.0, 32.0, 0.0, 0.0, 0.0, 0.0, 22.0, 5.0, 7.0, 32.0, 1.0, 1.0, 1.0, 4.0, 5.0, 8.0, 1.0, 2.0, 0.0, 0.0, 0.0, 0.0, 0.0, 5.0, 1.0, 1.0, 2.0, 1.0, 1.0, 15.0, 1.0, 20.0, 3.0, 3.0, 0.0, 33.0, 4.0, 1.0, 1.0, 0.0, 0.0, 0.0, 0.0, 3.0, 23.0, 2.0, 1.0, 2.0, 40.0, 5.0, 1.0, 40.0, 1.0, 0.0, 33.0, 8.0, 0.0, 0.0]\n"
     ]
    }
   ],
   "source": [
    "cumx = []\n",
    "cumy = []\n",
    "\n",
    "for i in range(len(results)):\n",
    "    data = results[i]\n",
    "\n",
    "    p1pump = data.PressPump\n",
    "    p2pump = data.P2_PressPump\n",
    "    \n",
    "    cump1 = np.cumsum(p1pump)\n",
    "    cump2 = np.cumsum(p2pump)\n",
    "    \n",
    "    cumx.append(cump1.iloc[-1])\n",
    "    cumy.append(cump2.iloc[-1])\n",
    "    \n",
    "print(cumx)\n",
    "print(cumy)"
   ]
  },
  {
   "cell_type": "code",
   "execution_count": 104,
   "id": "55594ff5-6883-4ef7-8099-f1db99855fee",
   "metadata": {},
   "outputs": [
    {
     "name": "stdout",
     "output_type": "stream",
     "text": [
      "[28.0, 28.0, 20.0, 8.0, 17.0, 15.0, 28.0, 15.0, 18.0, 35.0]\n",
      "[4.0, 22.0, 14.0, 1.0, 20.0, 1.0, 22.0, 3.0, 1.0, 16.0]\n"
     ]
    }
   ],
   "source": [
    "cumx_pre = []\n",
    "cumy_pre = []\n",
    "\n",
    "for i in range(len(results_pre)):\n",
    "    data = results_pre[i]\n",
    "\n",
    "    p1pump = data.PressPump\n",
    "    p2pump = data.P2_PressPump\n",
    "    \n",
    "    cump1 = np.cumsum(p1pump)\n",
    "    cump2 = np.cumsum(p2pump)\n",
    "    \n",
    "    cumx_pre.append(cump1.iloc[-1])\n",
    "    cumy_pre.append(cump2.iloc[-1])\n",
    "    \n",
    "print(cumx_pre)\n",
    "print(cumy_pre)"
   ]
  },
  {
   "cell_type": "code",
   "execution_count": 105,
   "id": "ddc219b7-587b-48ec-a552-cf8eda79ca73",
   "metadata": {},
   "outputs": [
    {
     "data": {
      "text/plain": [
       "(-1.0, 1.0)"
      ]
     },
     "execution_count": 105,
     "metadata": {},
     "output_type": "execute_result"
    },
    {
     "data": {
      "image/png": "[encoded data removed]",
      "text/plain": [
       "<Figure size 432x288 with 1 Axes>"
      ]
     },
     "metadata": {
      "needs_background": "light"
     },
     "output_type": "display_data"
    }
   ],
   "source": [
    "plt.figure()\n",
    "behs = []\n",
    "for i in range(len(cumx_pre)):\n",
    "    xval = cumx_pre[i]\n",
    "    yval = cumy_pre[i]\n",
    "    beh = behav(xval,yval)\n",
    "    behs.append(beh)\n",
    "    #print(i, beh)\n",
    "\n",
    "plt.plot(behs,'.-')\n",
    "plt.ylim(-1,1)\n",
    "    \n",
    "# ahead or indifferent "
   ]
  },
  {
   "cell_type": "code",
   "execution_count": 98,
   "id": "13684226-2570-40b5-bee6-8bbde558ba01",
   "metadata": {},
   "outputs": [
    {
     "name": "stderr",
     "output_type": "stream",
     "text": [
      "/tmp/ipykernel_4708/3331885184.py:2: RuntimeWarning: invalid value encountered in double_scalars\n",
      "  f = (x-y)/(x+y)\n"
     ]
    },
    {
     "data": {
      "text/plain": [
       "(-1.0, 1.0)"
      ]
     },
     "execution_count": 98,
     "metadata": {},
     "output_type": "execute_result"
    },
    {
     "data": {
      "image/png": "[encoded data removed]",
      "text/plain": [
       "<Figure size 432x288 with 1 Axes>"
      ]
     },
     "metadata": {
      "needs_background": "light"
     },
     "output_type": "display_data"
    }
   ],
   "source": [
    "plt.figure()\n",
    "behs = []\n",
    "for i in range(len(cumx)):\n",
    "    xval = cumx[i]\n",
    "    yval = cumy[i]\n",
    "    beh = behav(xval,yval)\n",
    "    behs.append(beh)\n",
    "    #print(i, beh)\n",
    "\n",
    "plt.plot(behs,'.-')\n",
    "plt.ylim(-1,1)\n",
    "    \n",
    "# ahead or indifferent "
   ]
  },
  {
   "cell_type": "code",
   "execution_count": 117,
   "id": "d1bb1de5-35b0-4214-a333-44deaf9c1dae",
   "metadata": {},
   "outputs": [
    {
     "ename": "IndexError",
     "evalue": "single positional indexer is out-of-bounds",
     "output_type": "error",
     "traceback": [
      "\u001b[0;31m---------------------------------------------------------------------------\u001b[0m",
      "\u001b[0;31mIndexError\u001b[0m                                Traceback (most recent call last)",
      "\u001b[0;32m/tmp/ipykernel_4805/4224551490.py\u001b[0m in \u001b[0;36m<module>\u001b[0;34m\u001b[0m\n\u001b[1;32m     11\u001b[0m     \u001b[0mcump2\u001b[0m \u001b[0;34m=\u001b[0m \u001b[0mnp\u001b[0m\u001b[0;34m.\u001b[0m\u001b[0mcumsum\u001b[0m\u001b[0;34m(\u001b[0m\u001b[0mp2pump\u001b[0m\u001b[0;34m)\u001b[0m\u001b[0;34m\u001b[0m\u001b[0;34m\u001b[0m\u001b[0m\n\u001b[1;32m     12\u001b[0m \u001b[0;34m\u001b[0m\u001b[0m\n\u001b[0;32m---> 13\u001b[0;31m     \u001b[0mcumx_post\u001b[0m\u001b[0;34m.\u001b[0m\u001b[0mappend\u001b[0m\u001b[0;34m(\u001b[0m\u001b[0mcump1\u001b[0m\u001b[0;34m.\u001b[0m\u001b[0miloc\u001b[0m\u001b[0;34m[\u001b[0m\u001b[0;34m-\u001b[0m\u001b[0;36m1\u001b[0m\u001b[0;34m]\u001b[0m\u001b[0;34m)\u001b[0m\u001b[0;34m\u001b[0m\u001b[0;34m\u001b[0m\u001b[0m\n\u001b[0m\u001b[1;32m     14\u001b[0m     \u001b[0mcumy_post\u001b[0m\u001b[0;34m.\u001b[0m\u001b[0mappend\u001b[0m\u001b[0;34m(\u001b[0m\u001b[0mcump2\u001b[0m\u001b[0;34m.\u001b[0m\u001b[0miloc\u001b[0m\u001b[0;34m[\u001b[0m\u001b[0;34m-\u001b[0m\u001b[0;36m1\u001b[0m\u001b[0;34m]\u001b[0m\u001b[0;34m)\u001b[0m\u001b[0;34m\u001b[0m\u001b[0;34m\u001b[0m\u001b[0m\n\u001b[1;32m     15\u001b[0m \u001b[0;34m\u001b[0m\u001b[0m\n",
      "\u001b[0;32m~/anaconda3/lib/python3.9/site-packages/pandas/core/indexing.py\u001b[0m in \u001b[0;36m__getitem__\u001b[0;34m(self, key)\u001b[0m\n\u001b[1;32m    929\u001b[0m \u001b[0;34m\u001b[0m\u001b[0m\n\u001b[1;32m    930\u001b[0m             \u001b[0mmaybe_callable\u001b[0m \u001b[0;34m=\u001b[0m \u001b[0mcom\u001b[0m\u001b[0;34m.\u001b[0m\u001b[0mapply_if_callable\u001b[0m\u001b[0;34m(\u001b[0m\u001b[0mkey\u001b[0m\u001b[0;34m,\u001b[0m \u001b[0mself\u001b[0m\u001b[0;34m.\u001b[0m\u001b[0mobj\u001b[0m\u001b[0;34m)\u001b[0m\u001b[0;34m\u001b[0m\u001b[0;34m\u001b[0m\u001b[0m\n\u001b[0;32m--> 931\u001b[0;31m             \u001b[0;32mreturn\u001b[0m \u001b[0mself\u001b[0m\u001b[0;34m.\u001b[0m\u001b[0m_getitem_axis\u001b[0m\u001b[0;34m(\u001b[0m\u001b[0mmaybe_callable\u001b[0m\u001b[0;34m,\u001b[0m \u001b[0maxis\u001b[0m\u001b[0;34m=\u001b[0m\u001b[0maxis\u001b[0m\u001b[0;34m)\u001b[0m\u001b[0;34m\u001b[0m\u001b[0;34m\u001b[0m\u001b[0m\n\u001b[0m\u001b[1;32m    932\u001b[0m \u001b[0;34m\u001b[0m\u001b[0m\n\u001b[1;32m    933\u001b[0m     \u001b[0;32mdef\u001b[0m \u001b[0m_is_scalar_access\u001b[0m\u001b[0;34m(\u001b[0m\u001b[0mself\u001b[0m\u001b[0;34m,\u001b[0m \u001b[0mkey\u001b[0m\u001b[0;34m:\u001b[0m \u001b[0mtuple\u001b[0m\u001b[0;34m)\u001b[0m\u001b[0;34m:\u001b[0m\u001b[0;34m\u001b[0m\u001b[0;34m\u001b[0m\u001b[0m\n",
      "\u001b[0;32m~/anaconda3/lib/python3.9/site-packages/pandas/core/indexing.py\u001b[0m in \u001b[0;36m_getitem_axis\u001b[0;34m(self, key, axis)\u001b[0m\n\u001b[1;32m   1564\u001b[0m \u001b[0;34m\u001b[0m\u001b[0m\n\u001b[1;32m   1565\u001b[0m             \u001b[0;31m# validate the location\u001b[0m\u001b[0;34m\u001b[0m\u001b[0;34m\u001b[0m\u001b[0m\n\u001b[0;32m-> 1566\u001b[0;31m             \u001b[0mself\u001b[0m\u001b[0;34m.\u001b[0m\u001b[0m_validate_integer\u001b[0m\u001b[0;34m(\u001b[0m\u001b[0mkey\u001b[0m\u001b[0;34m,\u001b[0m \u001b[0maxis\u001b[0m\u001b[0;34m)\u001b[0m\u001b[0;34m\u001b[0m\u001b[0;34m\u001b[0m\u001b[0m\n\u001b[0m\u001b[1;32m   1567\u001b[0m \u001b[0;34m\u001b[0m\u001b[0m\n\u001b[1;32m   1568\u001b[0m             \u001b[0;32mreturn\u001b[0m \u001b[0mself\u001b[0m\u001b[0;34m.\u001b[0m\u001b[0mobj\u001b[0m\u001b[0;34m.\u001b[0m\u001b[0m_ixs\u001b[0m\u001b[0;34m(\u001b[0m\u001b[0mkey\u001b[0m\u001b[0;34m,\u001b[0m \u001b[0maxis\u001b[0m\u001b[0;34m=\u001b[0m\u001b[0maxis\u001b[0m\u001b[0;34m)\u001b[0m\u001b[0;34m\u001b[0m\u001b[0;34m\u001b[0m\u001b[0m\n",
      "\u001b[0;32m~/anaconda3/lib/python3.9/site-packages/pandas/core/indexing.py\u001b[0m in \u001b[0;36m_validate_integer\u001b[0;34m(self, key, axis)\u001b[0m\n\u001b[1;32m   1498\u001b[0m         \u001b[0mlen_axis\u001b[0m \u001b[0;34m=\u001b[0m \u001b[0mlen\u001b[0m\u001b[0;34m(\u001b[0m\u001b[0mself\u001b[0m\u001b[0;34m.\u001b[0m\u001b[0mobj\u001b[0m\u001b[0;34m.\u001b[0m\u001b[0m_get_axis\u001b[0m\u001b[0;34m(\u001b[0m\u001b[0maxis\u001b[0m\u001b[0;34m)\u001b[0m\u001b[0;34m)\u001b[0m\u001b[0;34m\u001b[0m\u001b[0;34m\u001b[0m\u001b[0m\n\u001b[1;32m   1499\u001b[0m         \u001b[0;32mif\u001b[0m \u001b[0mkey\u001b[0m \u001b[0;34m>=\u001b[0m \u001b[0mlen_axis\u001b[0m \u001b[0;32mor\u001b[0m \u001b[0mkey\u001b[0m \u001b[0;34m<\u001b[0m \u001b[0;34m-\u001b[0m\u001b[0mlen_axis\u001b[0m\u001b[0;34m:\u001b[0m\u001b[0;34m\u001b[0m\u001b[0;34m\u001b[0m\u001b[0m\n\u001b[0;32m-> 1500\u001b[0;31m             \u001b[0;32mraise\u001b[0m \u001b[0mIndexError\u001b[0m\u001b[0;34m(\u001b[0m\u001b[0;34m\"single positional indexer is out-of-bounds\"\u001b[0m\u001b[0;34m)\u001b[0m\u001b[0;34m\u001b[0m\u001b[0;34m\u001b[0m\u001b[0m\n\u001b[0m\u001b[1;32m   1501\u001b[0m \u001b[0;34m\u001b[0m\u001b[0m\n\u001b[1;32m   1502\u001b[0m     \u001b[0;31m# -------------------------------------------------------------------\u001b[0m\u001b[0;34m\u001b[0m\u001b[0;34m\u001b[0m\u001b[0m\n",
      "\u001b[0;31mIndexError\u001b[0m: single positional indexer is out-of-bounds"
     ]
    }
   ],
   "source": [
    "cumx_post = []\n",
    "cumy_post = []\n",
    "\n",
    "for i in range(len(results_post)):\n",
    "    data = results_post[i]\n",
    "\n",
    "    p1pump = data.PressPump\n",
    "    p2pump = data.P2_PressPump\n",
    "    \n",
    "    cump1 = np.cumsum(p1pump)\n",
    "    cump2 = np.cumsum(p2pump)\n",
    "    \n",
    "    cumx_post.append(cump1.iloc[-1])\n",
    "    cumy_post.append(cump2.iloc[-1])\n",
    "    \n",
    "print(cumx_post)\n",
    "print(cumy_post)"
   ]
  },
  {
   "cell_type": "code",
   "execution_count": null,
   "id": "ee95e12b-306d-4d44-b9fa-f58dff370138",
   "metadata": {},
   "outputs": [],
   "source": [
    "\n"
   ]
  }
 ],
 "metadata": {
  "kernelspec": {
   "display_name": "Python 3 (ipykernel)",
   "language": "python",
   "name": "python3"
  },
  "language_info": {
   "codemirror_mode": {
    "name": "ipython",
    "version": 3
   },
   "file_extension": ".py",
   "mimetype": "text/x-python",
   "name": "python",
   "nbconvert_exporter": "python",
   "pygments_lexer": "ipython3",
   "version": "3.9.7"
  }
 },
 "nbformat": 4,
 "nbformat_minor": 5
}
